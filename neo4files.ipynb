{
 "cells": [
  {
   "cell_type": "code",
   "execution_count": 21,
   "metadata": {},
   "outputs": [],
   "source": [
    "import os\n",
    "dbhome = \"c:/neo_db_34/databases\"\n",
    "dbname = \"vdab.db\"\n",
    "nodestore = \"neostore.nodestore.db\"\n",
    "relstore = \"neostore.relationshipstore.db\"\n",
    "propstore = \"neostore.propertystore.db\"\n",
    "noderecords = os.path.join(dbhome, dbname, nodestore)\n",
    "relrecords = os.path.join(dbhome, dbname, relstore)\n",
    "proprecords = os.path.join(dbhome, dbname, propstore)\n",
    "nrh = open(noderecords, 'rb')\n",
    "rrh = open(relrecords, 'rb')\n",
    "prh = open(proprecords, 'rb')"
   ]
  },
  {
   "cell_type": "code",
   "execution_count": 22,
   "metadata": {},
   "outputs": [
    {
     "name": "stdout",
     "output_type": "stream",
     "text": [
      "Node: 1,506,960, Relations: 6,095,520, Prop: 3,255,441\n"
     ]
    }
   ],
   "source": [
    "nr = nrh.read()\n",
    "rr = rrh.read()\n",
    "pr = prh.read()\n",
    "print(\"Node: {lnr:,}, Relations: {lrr:,}, Prop: {lpr:,}\".format(lnr=len(nr), lrr=len(rr), lpr = len(pr)))"
   ]
  },
  {
   "cell_type": "markdown",
   "metadata": {},
   "source": [
    "Additional information: https://stackoverflow.com/questions/22107813/how-to-read-bytes-from-file"
   ]
  },
  {
   "cell_type": "code",
   "execution_count": 23,
   "metadata": {},
   "outputs": [
    {
     "name": "stdout",
     "output_type": "stream",
     "text": [
      "01\n"
     ]
    }
   ],
   "source": [
    "nodeId = 21445\n",
    "node_offset = (nodeId) * 15\n",
    "in_use = nr[node_offset]\n",
    "print(\"{x:02x}\".format(x=in_use))"
   ]
  },
  {
   "cell_type": "code",
   "execution_count": 24,
   "metadata": {},
   "outputs": [
    {
     "name": "stdout",
     "output_type": "stream",
     "text": [
      "Rel1 ID: 174679 - Prop1 ID: 80 - Label ID: 272\n"
     ]
    }
   ],
   "source": [
    "rel1 = int.from_bytes(nr[node_offset+1:node_offset+5], byteorder='big')\n",
    "prop1 = int.from_bytes(nr[node_offset+6:node_offset+9], byteorder='big')\n",
    "lbl1 = int.from_bytes(nr[node_offset+10:node_offset+14], byteorder='big')\n",
    "print(\"Rel1 ID: {rel1} - Prop1 ID: {prop1} - Label ID: {lbl1}\".format(rel1=rel1, prop1=prop1, lbl1=lbl1))"
   ]
  },
  {
   "cell_type": "code",
   "execution_count": 44,
   "metadata": {},
   "outputs": [
    {
     "name": "stdout",
     "output_type": "stream",
     "text": [
      "1c:10:32:6b:00:00:01:3d:12:06:0c:70:0b:0c:33:12:c0:0c:c2:c9:34:c2:51:00:00:00:00:00:00:00:00:00\n"
     ]
    }
   ],
   "source": [
    "prop_offset = prop1 * 36\n",
    "prop_block = pr[prop_offset:prop_offset+32]\n",
    "prop_block_ba = [prop_block[i] for i in range(len(prop_block))]\n",
    "print(\":\".join(\"{x:02x}\".format(x=x) for x in prop_block_ba))"
   ]
  },
  {
   "cell_type": "code",
   "execution_count": 41,
   "metadata": {},
   "outputs": [
    {
     "data": {
      "text/plain": [
       "16777215"
      ]
     },
     "execution_count": 41,
     "metadata": {},
     "output_type": "execute_result"
    }
   ],
   "source": [
    "prop_prev = int.from_bytes(pr[prop_offset+1:prop_offset+4], byteorder='big')\n",
    "prop_prev"
   ]
  },
  {
   "cell_type": "code",
   "execution_count": 18,
   "metadata": {},
   "outputs": [
    {
     "name": "stdout",
     "output_type": "stream",
     "text": [
      "01\n"
     ]
    }
   ],
   "source": [
    "rel_offset = relId * 34\n",
    "rel_in_use = rr[rel_offset]\n",
    "print(\"{x:02x}\".format(x=rel_in_use))"
   ]
  },
  {
   "cell_type": "code",
   "execution_count": null,
   "metadata": {},
   "outputs": [],
   "source": []
  }
 ],
 "metadata": {
  "kernelspec": {
   "display_name": "Python 3",
   "language": "python",
   "name": "python3"
  },
  "language_info": {
   "codemirror_mode": {
    "name": "ipython",
    "version": 3
   },
   "file_extension": ".py",
   "mimetype": "text/x-python",
   "name": "python",
   "nbconvert_exporter": "python",
   "pygments_lexer": "ipython3",
   "version": "3.7.0"
  }
 },
 "nbformat": 4,
 "nbformat_minor": 1
}
