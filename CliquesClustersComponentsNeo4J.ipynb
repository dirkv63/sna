{
 "cells": [
  {
   "cell_type": "code",
   "execution_count": 3,
   "metadata": {},
   "outputs": [],
   "source": [
    "from py2neo import Graph, Node, Relationship, NodeMatcher\n",
    "from pandas import DataFrame"
   ]
  },
  {
   "cell_type": "code",
   "execution_count": 4,
   "metadata": {},
   "outputs": [
    {
     "name": "stdout",
     "output_type": "stream",
     "text": [
      "egypts.db\n"
     ]
    }
   ],
   "source": [
    "neo4j_config = { 'user': 'neo4j', 'password': 'neo4jneo4j', 'host': 'mylocalhost'}\n",
    "# Connect to Graph\n",
    "graph = Graph(**neo4j_config)\n",
    "# Check that we are connected to the expected Neo4J Store - to avoid accidents...\n",
    "dbname = graph.database.name\n",
    "print(dbname)"
   ]
  },
  {
   "cell_type": "markdown",
   "metadata": {},
   "source": [
    "## Number of nodes in the network"
   ]
  },
  {
   "cell_type": "code",
   "execution_count": 7,
   "metadata": {},
   "outputs": [
    {
     "name": "stdout",
     "output_type": "stream",
     "text": [
      "25178\n"
     ]
    }
   ],
   "source": [
    "query = \"match (n) return count(n) as cnt\"\n",
    "cur = graph.run(query)\n",
    "dd = cur.data()\n",
    "print(dd[0][\"cnt\"])"
   ]
  },
  {
   "cell_type": "markdown",
   "metadata": {},
   "source": [
    "## Components in the network"
   ]
  },
  {
   "cell_type": "code",
   "execution_count": 8,
   "metadata": {},
   "outputs": [
    {
     "name": "stdout",
     "output_type": "stream",
     "text": [
      "3122\n"
     ]
    }
   ],
   "source": [
    "query = \"\"\"\n",
    "call algo.unionFind.stream('Person', 'contacts', {})\n",
    "yield nodeId, setId\n",
    "return count(distinct setId) as components\n",
    "\"\"\"\n",
    "cur = graph.run(query)\n",
    "dd = cur.data()\n",
    "print(dd[0][\"components\"])"
   ]
  },
  {
   "cell_type": "markdown",
   "metadata": {},
   "source": [
    "## Size of Top 20 Components"
   ]
  },
  {
   "cell_type": "code",
   "execution_count": 10,
   "metadata": {},
   "outputs": [
    {
     "name": "stdout",
     "output_type": "stream",
     "text": [
      "Size: 17762\n",
      "Size: 64\n",
      "Size: 16\n",
      "Size: 16\n",
      "Size: 14\n",
      "Size: 13\n",
      "Size: 11\n",
      "Size: 11\n",
      "Size: 10\n",
      "Size: 10\n",
      "Size: 10\n",
      "Size: 10\n",
      "Size: 10\n",
      "Size: 9\n",
      "Size: 9\n",
      "Size: 9\n",
      "Size: 9\n",
      "Size: 9\n",
      "Size: 9\n",
      "Size: 9\n"
     ]
    }
   ],
   "source": [
    "query = \"\"\"\n",
    "call algo.unionFind.stream('Person', 'contacts', {})\n",
    "yield nodeId, setId\n",
    "return setId, count(*) as component_size\n",
    "order by component_size desc\n",
    "limit 20\n",
    "\"\"\"\n",
    "cur = graph.run(query)\n",
    "dd = cur.data()\n",
    "for res in dd:\n",
    "    print(\"Size: {size}\".format(size=res[\"component_size\"]))"
   ]
  },
  {
   "cell_type": "code",
   "execution_count": null,
   "metadata": {},
   "outputs": [],
   "source": []
  }
 ],
 "metadata": {
  "kernelspec": {
   "display_name": "Python 3",
   "language": "python",
   "name": "python3"
  },
  "language_info": {
   "codemirror_mode": {
    "name": "ipython",
    "version": 3
   },
   "file_extension": ".py",
   "mimetype": "text/x-python",
   "name": "python",
   "nbconvert_exporter": "python",
   "pygments_lexer": "ipython3",
   "version": "3.7.1"
  }
 },
 "nbformat": 4,
 "nbformat_minor": 2
}
