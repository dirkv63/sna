{
 "cells": [
  {
   "cell_type": "code",
   "execution_count": 2,
   "metadata": {},
   "outputs": [],
   "source": [
    "import networkx as net\n",
    "import matplotlib.pyplot as plot\n",
    "rn = \"data/russians.net\"\n",
    "g = net.read_pajek(rn)"
   ]
  },
  {
   "cell_type": "code",
   "execution_count": 3,
   "metadata": {},
   "outputs": [],
   "source": [
    "def trim_degrees(g, degree=1):\n",
    "    g2 = g.copy()\n",
    "    d = net.degree(g)\n",
    "    for n in g.nodes():\n",
    "        if d[n] <= degree:\n",
    "            g2.remove_node(n)\n",
    "    return g2"
   ]
  },
  {
   "cell_type": "code",
   "execution_count": 4,
   "metadata": {},
   "outputs": [],
   "source": [
    "core_10 = trim_degrees(g, 10)"
   ]
  },
  {
   "cell_type": "code",
   "execution_count": 5,
   "metadata": {},
   "outputs": [
    {
     "data": {
      "text/plain": [
       "619"
      ]
     },
     "execution_count": 5,
     "metadata": {},
     "output_type": "execute_result"
    }
   ],
   "source": [
    "len(core_10)"
   ]
  },
  {
   "cell_type": "code",
   "execution_count": 6,
   "metadata": {},
   "outputs": [],
   "source": [
    "c = net.closeness_centrality(core_10)"
   ]
  },
  {
   "cell_type": "code",
   "execution_count": 7,
   "metadata": {},
   "outputs": [],
   "source": [
    "def sorted_list(l):\n",
    "    return sorted(l, key=lambda x: x[1], reverse=True)"
   ]
  },
  {
   "cell_type": "code",
   "execution_count": 14,
   "metadata": {},
   "outputs": [
    {
     "data": {
      "text/plain": [
       "[('azbukivedi', 0.6155378486055777),\n",
       " ('valerois', 0.6137040714995035),\n",
       " ('bagira', 0.5896946564885496),\n",
       " ('karial', 0.5738161559888579),\n",
       " ('kpoxa_e', 0.5722222222222222),\n",
       " ('yelya', 0.5369244135534318),\n",
       " ('kirulya', 0.5364583333333334),\n",
       " ('angerona', 0.535064935064935),\n",
       " ('borisakunin', 0.53184165232358)]"
      ]
     },
     "execution_count": 14,
     "metadata": {},
     "output_type": "execute_result"
    }
   ],
   "source": [
    "cs = sorted(c.items(), key=lambda x: x[1], reverse=True)\n",
    "cs[:9]"
   ]
  },
  {
   "cell_type": "code",
   "execution_count": 11,
   "metadata": {},
   "outputs": [
    {
     "name": "stdout",
     "output_type": "stream",
     "text": [
      "fif: 0.4398576512455516\n",
      "i_crust: 0.4423765211166786\n",
      "igor_mkrt: 0.42857142857142855\n",
      "immoralist: 0.47465437788018433\n",
      "reydan: 0.3926302414231258\n",
      "shiros: 0.3840894965817278\n",
      "ortivika: 0.3987096774193548\n",
      "margo_qu: 0.45743893412287195\n",
      "de1ira: 0.4361326746647848\n",
      "bogushevich: 0.4122748498999333\n",
      "ya_tanechka: 0.4497816593886463\n"
     ]
    }
   ],
   "source": [
    "cnt = 0\n",
    "for k in c:\n",
    "    print(\"{k}: {ck}\".format(k=k, ck=c[k]))\n",
    "    cnt += 1\n",
    "    if cnt > 10:\n",
    "        break"
   ]
  },
  {
   "cell_type": "code",
   "execution_count": 12,
   "metadata": {},
   "outputs": [],
   "source": [
    "net.closeness_centrality?"
   ]
  },
  {
   "cell_type": "code",
   "execution_count": null,
   "metadata": {},
   "outputs": [],
   "source": []
  }
 ],
 "metadata": {
  "kernelspec": {
   "display_name": "Python 3",
   "language": "python",
   "name": "python3"
  },
  "language_info": {
   "codemirror_mode": {
    "name": "ipython",
    "version": 3
   },
   "file_extension": ".py",
   "mimetype": "text/x-python",
   "name": "python",
   "nbconvert_exporter": "python",
   "pygments_lexer": "ipython3",
   "version": "3.6.2"
  }
 },
 "nbformat": 4,
 "nbformat_minor": 2
}
