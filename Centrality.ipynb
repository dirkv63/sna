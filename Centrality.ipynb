{
 "cells": [
  {
   "cell_type": "code",
   "execution_count": 1,
   "metadata": {},
   "outputs": [],
   "source": [
    "import networkx as net\n",
    "import matplotlib.pyplot as plot\n",
    "rfn = \"data/russians.net\""
   ]
  },
  {
   "cell_type": "code",
   "execution_count": 2,
   "metadata": {},
   "outputs": [
    {
     "name": "stdout",
     "output_type": "stream",
     "text": [
      "87250\n"
     ]
    }
   ],
   "source": [
    "g = net.read_pajek(rfn)\n",
    "print(len(g.nodes()))"
   ]
  },
  {
   "cell_type": "code",
   "execution_count": 3,
   "metadata": {},
   "outputs": [],
   "source": [
    "# Return a subnet where all nodes have degree connections or more.\n",
    "def trim_degrees(g, degree=1):\n",
    "    g2 = g.copy()\n",
    "    d = net.degree(g)\n",
    "    for n in g.nodes():\n",
    "        if d[n] <= degree:\n",
    "            g2.remove_node(n)\n",
    "    return g2"
   ]
  },
  {
   "cell_type": "code",
   "execution_count": 4,
   "metadata": {},
   "outputs": [
    {
     "data": {
      "text/plain": [
       "[('borisakunin', 4691),\n",
       " ('doctor_liza', 3046),\n",
       " ('tareeva', 2970),\n",
       " ('cheger', 2887),\n",
       " ('karial', 2717),\n",
       " ('snorapp', 2707),\n",
       " ('masha_koroleva', 2683),\n",
       " ('elladkin', 2616),\n",
       " ('samoleg', 2597),\n",
       " ('zina_korzina', 2596)]"
      ]
     },
     "execution_count": 4,
     "metadata": {},
     "output_type": "execute_result"
    }
   ],
   "source": [
    "dall = net.degree(g)\n",
    "dalls = sorted(dall, key=lambda x: x[1], reverse=True)\n",
    "dalls[:10]"
   ]
  },
  {
   "cell_type": "code",
   "execution_count": 5,
   "metadata": {},
   "outputs": [
    {
     "name": "stdout",
     "output_type": "stream",
     "text": [
      "Length dv: 87250\n"
     ]
    },
    {
     "data": {
      "text/plain": [
       "[1, 1, 2, 1, 1, 2, 1, 1, 1, 1, 1, 1, 1, 4, 1, 1, 1, 3, 1, 1]"
      ]
     },
     "execution_count": 5,
     "metadata": {},
     "output_type": "execute_result"
    }
   ],
   "source": [
    "dv = [x[1] for x in dall]\n",
    "print(\"Length dv: {ldv}\".format(ldv=len(dv)))\n",
    "dv[:20]"
   ]
  },
  {
   "cell_type": "code",
   "execution_count": 6,
   "metadata": {},
   "outputs": [
    {
     "data": {
      "image/png": "[encoded data removed]",
      "text/plain": [
       "<Figure size 432x288 with 1 Axes>"
      ]
     },
     "metadata": {
      "needs_background": "light"
     },
     "output_type": "display_data"
    }
   ],
   "source": [
    "h = plot.hist(dv)"
   ]
  },
  {
   "cell_type": "code",
   "execution_count": 7,
   "metadata": {},
   "outputs": [
    {
     "data": {
      "text/plain": [
       "[<matplotlib.lines.Line2D at 0x226cc9702e8>]"
      ]
     },
     "execution_count": 7,
     "metadata": {},
     "output_type": "execute_result"
    },
    {
     "data": {
      "image/png": "[encoded data removed]",
      "text/plain": [
       "<Figure size 432x288 with 1 Axes>"
      ]
     },
     "metadata": {
      "needs_background": "light"
     },
     "output_type": "display_data"
    }
   ],
   "source": [
    "plot.loglog(h[1][1:],h[0])"
   ]
  },
  {
   "cell_type": "code",
   "execution_count": 8,
   "metadata": {},
   "outputs": [
    {
     "data": {
      "text/plain": [
       "[('azbukivedi', 234),\n",
       " ('valerois', 229),\n",
       " ('bagira', 204),\n",
       " ('karial', 169),\n",
       " ('kpoxa_e', 161),\n",
       " ('snorapp', 128),\n",
       " ('angerona', 121),\n",
       " ('kirulya', 120),\n",
       " ('borisakunin', 114),\n",
       " ('eprst2000', 111)]"
      ]
     },
     "execution_count": 8,
     "metadata": {},
     "output_type": "execute_result"
    }
   ],
   "source": [
    "core10 = trim_degrees(g, 10)\n",
    "deg = net.degree(core10)\n",
    "ds = sorted(deg, key=lambda x: x[1], reverse=True)\n",
    "ds[:10]"
   ]
  },
  {
   "cell_type": "code",
   "execution_count": 9,
   "metadata": {},
   "outputs": [
    {
     "data": {
      "image/png": "[encoded data removed]",
      "text/plain": [
       "<Figure size 432x288 with 1 Axes>"
      ]
     },
     "metadata": {
      "needs_background": "light"
     },
     "output_type": "display_data"
    }
   ],
   "source": [
    "dsv = [x[1] for x in deg]\n",
    "hs = plot.hist(dsv)"
   ]
  },
  {
   "cell_type": "code",
   "execution_count": 40,
   "metadata": {},
   "outputs": [
    {
     "data": {
      "text/plain": [
       "[<matplotlib.lines.Line2D at 0x1e6275f8>]"
      ]
     },
     "execution_count": 40,
     "metadata": {},
     "output_type": "execute_result"
    },
    {
     "data": {
      "image/png": "[encoded data removed]",
      "text/plain": [
       "<Figure size 432x288 with 1 Axes>"
      ]
     },
     "metadata": {
      "needs_background": "light"
     },
     "output_type": "display_data"
    }
   ],
   "source": [
    "plot.loglog(hs[1][1:], h[0])"
   ]
  },
  {
   "cell_type": "code",
   "execution_count": 7,
   "metadata": {},
   "outputs": [
    {
     "data": {
      "text/plain": [
       "[('valerois', 0.21148671833684918),\n",
       " ('azbukivedi', 0.09068546983753605),\n",
       " ('bagira', 0.06415743377135999),\n",
       " ('karial', 0.049436498735116984),\n",
       " ('kpoxa_e', 0.040441270584172254),\n",
       " ('snorapp', 0.02624442003749055),\n",
       " ('borisakunin', 0.023042685592280548),\n",
       " ('kirulya', 0.022601460496828554),\n",
       " ('eprst2000', 0.021420612080769154),\n",
       " ('doctor_liza', 0.020507259543668846)]"
      ]
     },
     "execution_count": 7,
     "metadata": {},
     "output_type": "execute_result"
    }
   ],
   "source": [
    "b = net.betweenness_centrality(core10)\n",
    "bs = sorted(b.items(), key=lambda x: x[1], reverse=True)\n",
    "bs[:10]"
   ]
  },
  {
   "cell_type": "code",
   "execution_count": 41,
   "metadata": {},
   "outputs": [
    {
     "name": "stderr",
     "output_type": "stream",
     "text": [
      "c:\\envs\\sna\\lib\\site-packages\\networkx\\drawing\\nx_pylab.py:611: MatplotlibDeprecationWarning: isinstance(..., numbers.Number)\n",
      "  if cb.is_numlike(alpha):\n"
     ]
    },
    {
     "data": {
      "image/png": "[encoded data removed]",
      "text/plain": [
       "<Figure size 432x288 with 1 Axes>"
      ]
     },
     "metadata": {},
     "output_type": "display_data"
    }
   ],
   "source": [
    "net.draw(core10)"
   ]
  },
  {
   "cell_type": "code",
   "execution_count": 8,
   "metadata": {},
   "outputs": [],
   "source": [
    "dn = [x[0] for x in ds[:10]]\n",
    "cn = [x[0] for x in cs[:10]]\n",
    "bn = [x[0] for x in bs[:10]]\n",
    "names = list(set(dn) | set(cn) | set(bn))"
   ]
  },
  {
   "cell_type": "code",
   "execution_count": 9,
   "metadata": {},
   "outputs": [
    {
     "data": {
      "text/plain": [
       "[['valerois', 229, 0.6137040714995035, 0.21148671833684918],\n",
       " ['snorapp', 128, 0.5300171526586621, 0.02624442003749055],\n",
       " ['bagira', 204, 0.5896946564885496, 0.06415743377135999],\n",
       " ['azbukivedi', 234, 0.6155378486055777, 0.09068546983753605],\n",
       " ['kirulya', 120, 0.5364583333333334, 0.022601460496828554],\n",
       " ['eprst2000', 111, 0.5286569717707442, 0.021420612080769154],\n",
       " ['yelya', 110, 0.5369244135534318, 0.015239326752752018],\n",
       " ['borisakunin', 114, 0.53184165232358, 0.023042685592280548],\n",
       " ['karial', 169, 0.5738161559888579, 0.049436498735116984],\n",
       " ['kpoxa_e', 161, 0.5722222222222222, 0.040441270584172254],\n",
       " ['angerona', 121, 0.535064935064935, 0.01923800645354709],\n",
       " ['doctor_liza', 110, 0.48168355416991426, 0.020507259543668846]]"
      ]
     },
     "execution_count": 9,
     "metadata": {},
     "output_type": "execute_result"
    }
   ],
   "source": [
    "tbl = [[name, deg[name], c[name], b[name]] for name in names]\n",
    "tbl"
   ]
  },
  {
   "cell_type": "code",
   "execution_count": 15,
   "metadata": {},
   "outputs": [
    {
     "data": {
      "text/plain": [
       "[('azbukivedi', 0.23811919508796026),\n",
       " ('valerois', 0.21385191071863055),\n",
       " ('bagira', 0.2133601777875128),\n",
       " ('kpoxa_e', 0.186011778780494),\n",
       " ('karial', 0.16918600112428722),\n",
       " ('yelya', 0.13473163140887556),\n",
       " ('angerona', 0.134575838803282),\n",
       " ('boctok', 0.12118363426455767),\n",
       " ('mamaracha', 0.1104447698013433),\n",
       " ('snorapp', 0.10954663034809892)]"
      ]
     },
     "execution_count": 15,
     "metadata": {},
     "output_type": "execute_result"
    }
   ],
   "source": [
    "g_core10 = net.Graph(core10)\n",
    "e = net.eigenvector_centrality(g_core10)\n",
    "es = sorted(e.items(), key=lambda x: x[1], reverse=True)\n",
    "es[:10]"
   ]
  },
  {
   "cell_type": "code",
   "execution_count": 17,
   "metadata": {},
   "outputs": [
    {
     "data": {
      "text/plain": [
       "[('valerois', 0.01761028534552088),\n",
       " ('azbukivedi', 0.014962257152541724),\n",
       " ('bagira', 0.013071988890355277),\n",
       " ('karial', 0.010925007536674827),\n",
       " ('kpoxa_e', 0.010181367846065513),\n",
       " ('snorapp', 0.008344777926142936),\n",
       " ('kirulya', 0.007863255017903945),\n",
       " ('angerona', 0.007814922691391503),\n",
       " ('borisakunin', 0.007574804468466216),\n",
       " ('doctor_liza', 0.007304380885144853)]"
      ]
     },
     "execution_count": 17,
     "metadata": {},
     "output_type": "execute_result"
    }
   ],
   "source": [
    "p = net.pagerank(g_core10)\n",
    "ps = sorted(p.items(), key=lambda x: x[1], reverse=True)\n",
    "ps[:10]"
   ]
  },
  {
   "cell_type": "code",
   "execution_count": 14,
   "metadata": {},
   "outputs": [
    {
     "data": {
      "text/plain": [
       "networkx.classes.multigraph.MultiGraph"
      ]
     },
     "execution_count": 14,
     "metadata": {},
     "output_type": "execute_result"
    }
   ],
   "source": [
    "type(core10)"
   ]
  },
  {
   "cell_type": "code",
   "execution_count": null,
   "metadata": {},
   "outputs": [],
   "source": []
  }
 ],
 "metadata": {
  "kernelspec": {
   "display_name": "Python 3",
   "language": "python",
   "name": "python3"
  },
  "language_info": {
   "codemirror_mode": {
    "name": "ipython",
    "version": 3
   },
   "file_extension": ".py",
   "mimetype": "text/x-python",
   "name": "python",
   "nbconvert_exporter": "python",
   "pygments_lexer": "ipython3",
   "version": "3.7.1"
  }
 },
 "nbformat": 4,
 "nbformat_minor": 1
}
